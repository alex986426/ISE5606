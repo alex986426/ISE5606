{
 "cells": [
  {
   "metadata": {},
   "cell_type": "code",
   "outputs": [],
   "execution_count": null,
   "source": [
    "import  pandas as pd\n",
    "import  numpy as np"
   ],
   "id": "af5c3c2bd1dceec1"
  },
  {
   "metadata": {},
   "cell_type": "code",
   "outputs": [],
   "execution_count": null,
   "source": [
    "df = pd.read_csv('new1.csv')\n",
    "df.head"
   ],
   "id": "269a7a3819f62085"
  },
  {
   "metadata": {},
   "cell_type": "code",
   "outputs": [],
   "execution_count": null,
   "source": [
    "# 定义新的列名列表，确保新列名数量和原列名数量一致\n",
    "new_column_names = ['标题', '类型', '地区','位置','具体位置', '室厅数1','室厅数2', '室厅数3', '面积','标签1','标签2','标签3','标签4','均价','平方米每元/单位','总价',]  # 这里根据实际列数修改\n",
    "\n",
    "# 重命名列\n",
    "df.columns = new_column_names\n",
    "\n",
    "# 打印修改列名后的 DataFrame （可选，用于查看结果）\n",
    "print(df)"
   ],
   "id": "1c29b75eff3aab20"
  },
  {
   "metadata": {},
   "cell_type": "code",
   "outputs": [],
   "execution_count": null,
   "source": [
    "# 定义新的列顺序\n",
    "new_column_order = ['标题','地区','位置','具体位置', '标签1','标签2','标签3','标签4','均价','平方米每元/单位','总价','类型','室厅数1','室厅数2', '室厅数3','面积',]\n",
    "\n",
    "# 重新排列列\n",
    "df = df[new_column_order]\n",
    "\n",
    "# 打印重新排列列后的 DataFrame（可选，用于查看结果）\n",
    "print(df)"
   ],
   "id": "735c4fb6e4f12637"
  },
  {
   "metadata": {},
   "cell_type": "code",
   "outputs": [],
   "execution_count": null,
   "source": [
    "# 假设要合并的列名为 'col1', 'col2', 'col3'\n",
    "columns_to_merge = ['标签1','标签2','标签3','标签4',]\n",
    "\n",
    "# 将指定列的内容合并到新的一列，并用逗号隔开\n",
    "df.loc[:, '标签'] = df[columns_to_merge].apply(lambda row: ', '.join(row.dropna().astype(str)), axis=1)\n",
    "\n",
    "# 假设要合并的列名为 'col1', 'col2', 'col3'\n",
    "columns_to_merge = ['室厅数1','室厅数2', '室厅数3',]\n",
    "\n",
    "# 链式操作完成列合并\n",
    "df = df.assign(室厅数=df[columns_to_merge].apply(lambda row: ', '.join(row.dropna().astype(str)), axis=1))\n",
    "\n",
    "# 打印处理后的数据（可选，用于查看结果）\n",
    "print(df)"
   ],
   "id": "b28f3fdad07f0e91"
  },
  {
   "metadata": {},
   "cell_type": "code",
   "outputs": [],
   "execution_count": null,
   "source": [
    "# 定义新文件的路径\n",
    "new_file_path = 'new2.csv'\n",
    "\n",
    "# 将修改后的数据保存为新的 CSV 文件\n",
    "df.to_csv(new_file_path, index=False)\n",
    "\n",
    "print(f\"修改后的数据已保存到 {new_file_path}\")"
   ],
   "id": "3ebea5c0e689c9c3"
  },
  {
   "metadata": {},
   "cell_type": "code",
   "outputs": [],
   "execution_count": null,
   "source": [
    "column_to_delete = '标签1'\n",
    "if column_to_delete in df.columns:  # 这里有意外的缩进\n",
    "    df = df.drop(column_to_delete, axis=1)\n",
    "    print(f\"成功删除列 {column_to_delete}\")\n",
    "else:\n",
    "    print(f\"列 {column_to_delete} 不存在于文件中。\")"
   ],
   "id": "82cd9033cacdf420"
  },
  {
   "metadata": {},
   "cell_type": "code",
   "outputs": [],
   "execution_count": null,
   "source": [
    "column_to_delete = '标签2'\n",
    "if column_to_delete in df.columns:  # 这里有意外的缩进\n",
    "    df = df.drop(column_to_delete, axis=1)\n",
    "    print(f\"成功删除列 {column_to_delete}\")\n",
    "else:\n",
    "    print(f\"列 {column_to_delete} 不存在于文件中。\")"
   ],
   "id": "ee2155c2d0d60287"
  },
  {
   "metadata": {},
   "cell_type": "code",
   "outputs": [],
   "execution_count": null,
   "source": [
    "column_to_delete = '标签3'\n",
    "if column_to_delete in df.columns:  # 这里有意外的缩进\n",
    "    df = df.drop(column_to_delete, axis=1)\n",
    "    print(f\"成功删除列 {column_to_delete}\")\n",
    "else:\n",
    "    print(f\"列 {column_to_delete} 不存在于文件中。\")"
   ],
   "id": "3080024e6a4fab1b"
  },
  {
   "metadata": {},
   "cell_type": "code",
   "outputs": [],
   "execution_count": null,
   "source": [
    "column_to_delete = '标签4'\n",
    "if column_to_delete in df.columns:  # 这里有意外的缩进\n",
    "    df = df.drop(column_to_delete, axis=1)\n",
    "    print(f\"成功删除列 {column_to_delete}\")\n",
    "else:\n",
    "    print(f\"列 {column_to_delete} 不存在于文件中。\")"
   ],
   "id": "285b8fff06b3546f"
  },
  {
   "metadata": {},
   "cell_type": "code",
   "outputs": [],
   "execution_count": null,
   "source": [
    "column_to_delete = '室厅数1'\n",
    "if column_to_delete in df.columns:  # 这里有意外的缩进\n",
    "    df = df.drop(column_to_delete, axis=1)\n",
    "    print(f\"成功删除列 {column_to_delete}\")\n",
    "else:\n",
    "    print(f\"列 {column_to_delete} 不存在于文件中。\")"
   ],
   "id": "8f8ec4c1e8da0c54"
  },
  {
   "metadata": {},
   "cell_type": "code",
   "outputs": [],
   "execution_count": null,
   "source": [
    "column_to_delete = '室厅数2'\n",
    "if column_to_delete in df.columns:  # 这里有意外的缩进\n",
    "    df = df.drop(column_to_delete, axis=1)\n",
    "    print(f\"成功删除列 {column_to_delete}\")\n",
    "else:\n",
    "    print(f\"列 {column_to_delete} 不存在于文件中。\")"
   ],
   "id": "d1ca98a32af30cea"
  },
  {
   "metadata": {},
   "cell_type": "code",
   "outputs": [],
   "execution_count": null,
   "source": [
    "column_to_delete = '室厅数3'\n",
    "if column_to_delete in df.columns:  # 这里有意外的缩进\n",
    "    df = df.drop(column_to_delete, axis=1)\n",
    "    print(f\"成功删除列 {column_to_delete}\")\n",
    "else:\n",
    "    print(f\"列 {column_to_delete} 不存在于文件中。\")"
   ],
   "id": "fd4849f515cb0708"
  },
  {
   "metadata": {},
   "cell_type": "code",
   "outputs": [],
   "execution_count": null,
   "source": [
    "df.head\n",
    "# 定义新的列名列表，确保新列名数量和原列名数量一致\n",
    "new_column_names = ['标题', '类型', '地区', '位置', '具体位置', '室厅', '面积', '标签', '均价', '平方米每元/单位', '总价', ]  # 这里根据实际列数修改\n",
    "\n",
    "# 重命名列\n",
    "df.columns = new_column_names\n",
    "\n",
    "# 打印修改列名后的 DataFrame （可选，用于查看结果）\n",
    "print(df)"
   ],
   "id": "e6f7d12746e41afc"
  },
  {
   "metadata": {},
   "cell_type": "code",
   "outputs": [],
   "execution_count": null,
   "source": [
    "# 定义新文件的路径\n",
    "new_file_path = 'new3.csv'\n",
    "\n",
    "# 将修改后的数据保存为新的 CSV 文件\n",
    "df.to_csv(new_file_path, index=False)\n",
    "\n",
    "print(f\"修改后的数据已保存到 {new_file_path}\")"
   ],
   "id": "5caacd7fca0c0500"
  }
 ],
 "metadata": {},
 "nbformat": 5,
 "nbformat_minor": 9
}
