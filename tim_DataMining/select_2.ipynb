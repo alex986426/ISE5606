{
 "cells": [
  {
   "metadata": {},
   "cell_type": "code",
   "outputs": [],
   "execution_count": null,
   "source": [
    "import  pandas as pd\n",
    "import  numpy as np"
   ],
   "id": "a7a00bf8158f297b"
  },
  {
   "metadata": {},
   "cell_type": "code",
   "outputs": [],
   "execution_count": null,
   "source": [
    "df = pd.read_csv('new3.csv')\n",
    "df.head\n",
    "\n",
    "column_to_delete = '平方米每元/单位'\n",
    "if column_to_delete in df.columns:  # 这里有意外的缩进\n",
    "    df = df.drop(column_to_delete, axis=1)\n",
    "    print(f\"成功删除列 {column_to_delete}\")\n",
    "else:\n",
    "    print(f\"列 {column_to_delete} 不存在于文件中。\")\n",
    "\n",
    "print(df)"
   ],
   "id": "9923a22f832f49f1"
  },
  {
   "metadata": {},
   "cell_type": "code",
   "outputs": [],
   "execution_count": null,
   "source": [
    "# 定义新的列顺序\n",
    "new_column_order = ['标题','地区','位置','具体位置', '标签','均价','总价','类型','室厅数','面积',]\n",
    "\n",
    "# 重新排列列\n",
    "df = df[new_column_order]\n",
    "\n",
    "# 打印重新排列列后的 DataFrame（可选，用于查看结果）\n",
    "print(df)"
   ],
   "id": "8b3fe9949a13e998"
  },
  {
   "metadata": {},
   "cell_type": "code",
   "outputs": [],
   "execution_count": null,
   "source": [
    "# 定义新的列名列表，确保新列名数量和原列名数量一致\n",
    "new_column_names = ['标题','地区','位置','具体位置', '标签','均价','总价','类型','室厅数','面积',]  # 这里根据实际列数修改\n",
    "\n",
    "# 重命名列\n",
    "df.columns = new_column_names\n",
    "\n",
    "# 打印修改列名后的 DataFrame （可选，用于查看结果）\n",
    "print(df)"
   ],
   "id": "e1f3d61303a26e9c"
  },
  {
   "metadata": {},
   "cell_type": "code",
   "outputs": [],
   "execution_count": null,
   "source": [
    "# 定义新文件的路径\n",
    "new_file_path = 'new5.csv'\n",
    "\n",
    "# 将修改后的数据保存为新的 CSV 文件\n",
    "df.to_csv(new_file_path, index=False)\n",
    "\n",
    "print(f\"修改后的数据已保存到 {new_file_path}\")"
   ],
   "id": "4d862df168c8517c"
  }
 ],
 "metadata": {},
 "nbformat": 5,
 "nbformat_minor": 9
}
