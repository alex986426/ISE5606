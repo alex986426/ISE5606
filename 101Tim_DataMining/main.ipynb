{
 "cells": [
  {
   "metadata": {},
   "cell_type": "code",
   "outputs": [],
   "execution_count": null,
   "source": [
    "import  pandas as pd\n",
    "import  numpy as np"
   ],
   "id": "dcd46429f011c4d2"
  },
  {
   "metadata": {},
   "cell_type": "code",
   "outputs": [],
   "execution_count": null,
   "source": [
    "df = pd.read_csv('../../fangjia/new5.csv')\n",
    "df.head"
   ],
   "id": "b5c94c062867253a"
  },
  {
   "metadata": {},
   "cell_type": "code",
   "outputs": [],
   "execution_count": null,
   "source": [
    "# 要更改的旧列名\n",
    "old_column_name = '标签'\n",
    "# 新的列名\n",
    "new_column_name = 'resblock-tag1 resblock-tag_resblock-type_resblock-tag2_resblock-tag3'"
   ],
   "id": "68c700881f91d143"
  },
  {
   "metadata": {},
   "cell_type": "code",
   "outputs": [],
   "execution_count": null,
   "source": [
    "# 要更改的旧列名\n",
    "old_column_name = '均价'\n",
    "# 新的列名\n",
    "new_column_name = '均价/平方米每元'"
   ],
   "id": "189c8b5fc6818d65"
  },
  {
   "metadata": {},
   "cell_type": "code",
   "outputs": [],
   "execution_count": null,
   "source": [
    "# 要更改的旧列名\n",
    "old_column_name = '均价'\n",
    "# 新的列名\n",
    "new_column_name = '均价/平方米每元'"
   ],
   "id": "67815c852f9d919b"
  },
  {
   "metadata": {},
   "cell_type": "code",
   "outputs": [],
   "execution_count": null,
   "source": [
    "file_path = '../../fangjia/new5.csv'  # 检查旧列名是否存在\n",
    "\n",
    "if old_column_name in df.columns:\n",
    "    # 使用 rename 方法更改列名\n",
    "    df = df.rename(columns={old_column_name: new_column_name})\n",
    "    # 将修改后的 DataFrame 保存回原文件\n",
    "    df.to_csv(file_path, index=False)\n",
    "    print(f\"成功将列 {old_column_name} 更改为 {new_column_name} 并保存到文件。\")\n",
    "else:\n",
    "    print(f\"列 {old_column_name} 不存在于文件中，无法进行更改。\")"
   ],
   "id": "63064a7dcf1ca40a"
  },
  {
   "metadata": {},
   "cell_type": "code",
   "outputs": [],
   "execution_count": null,
   "source": [
    "# 定义新文件的路径\n",
    "new_file_path = '../../fangjia/original data.csv'\n",
    "\n",
    "# 将修改后的数据保存为新的 CSV 文件\n",
    "df.to_csv(new_file_path, index=False)\n",
    "\n",
    "print(f\"修改后的数据已保存到 {new_file_path}\")"
   ],
   "id": "532e4ea9c981798d"
  },
  {
   "metadata": {},
   "cell_type": "code",
   "outputs": [],
   "execution_count": null,
   "source": "",
   "id": "727e5f5335598347"
  }
 ],
 "metadata": {},
 "nbformat": 5,
 "nbformat_minor": 9
}
