{
 "cells": [
  {
   "cell_type": "code",
   "id": "initial_id",
   "metadata": {
    "collapsed": true,
    "ExecuteTime": {
     "end_time": "2025-03-07T15:37:37.302228Z",
     "start_time": "2025-03-07T15:37:37.290684Z"
    }
   },
   "source": [
    "import pandas as pd\n",
    "import re\n",
    "import matplotlib.pyplot as plt\n",
    "from collections import Counter\n",
    "import seaborn as sns\n",
    "import numpy as np\n",
    "\n",
    "import warnings\n",
    "warnings.filterwarnings('ignore')\n",
    "plt.rcParams['font.family'] = 'Songti SC'\n",
    "\n",
    "# 导入数据 查看基本信息\n",
    "filename = '../002Data/original data.csv'\n",
    "data = pd.read_csv(filename, encoding='utf-8')\n",
    "data.info()\n",
    "print('初始数据规模：', data.shape)\n",
    "ds1 = data.shape[0]\n",
    "ds2 = data.shape[1]\n",
    "\n",
    "# 列名重命名\n",
    "data.rename(columns={'resblock-tag1 resblock-tag_resblock-type_resblock-tag2_resblock-tag3': '标签'}, inplace=True)\n",
    "\n",
    "# 重复项识别删除\n",
    "data = data.drop_duplicates(subset=['标题', '地区', '位置', '具体位置', '类型', '均价/平方米每元', '室厅数', '面积', '标签', '总价'])\n",
    "print('重复项：已删除行数', ds1-data.shape[0], '清洗后数据规模', data.shape)\n",
    "ds1 = data.shape[0]\n",
    "\n",
    "# 选择子集 删除无用属性（具体位置）\n",
    "data = data[['标题', '地区', '位置', '类型', '均价/平方米每元', '室厅数', '面积', '标签', '总价']]\n",
    "print('删除无用属性：已删除列数', ds2-data.shape[1], '清洗后数据规模', data.shape)\n",
    "ds2 = data.shape[1]\n",
    "\n",
    "\n",
    "# 两端空格 识别处理\n",
    "def check_space(s):\n",
    "    if isinstance(s, str):\n",
    "        has_space = s.startswith(' ') or s.endswith(' ')\n",
    "        return has_space\n",
    "    return False\n",
    "\n",
    "\n",
    "rows_to_delete = []\n",
    "columns_to_skip = ['标签', '室厅数', '面积']\n",
    "for col in data.columns:\n",
    "    if col in columns_to_skip:\n",
    "        continue\n",
    "    for index, value in data[col].items():\n",
    "        has_space = check_space(value)\n",
    "        if has_space:\n",
    "            print(f\"列名: {col}, 行索引: {index}, 值: {value}, 是否有空格: {has_space}\")\n",
    "            if index not in rows_to_delete:\n",
    "                rows_to_delete.append(index)\n",
    "data = data.drop(rows_to_delete)\n",
    "print('两端空格：已删除行数', ds1-data.shape[0], '清洗后数据规模', data.shape)\n",
    "ds1 = data.shape[0]\n"
   ],
   "outputs": [
    {
     "name": "stdout",
     "output_type": "stream",
     "text": [
      "<class 'pandas.core.frame.DataFrame'>\n",
      "RangeIndex: 1017 entries, 0 to 1016\n",
      "Data columns (total 10 columns):\n",
      " #   Column                                                                Non-Null Count  Dtype \n",
      "---  ------                                                                --------------  ----- \n",
      " 0   标题                                                                    1017 non-null   object\n",
      " 1   地区                                                                    1017 non-null   object\n",
      " 2   位置                                                                    1011 non-null   object\n",
      " 3   具体位置                                                                  1017 non-null   object\n",
      " 4   resblock-tag1 resblock-tag_resblock-type_resblock-tag2_resblock-tag3  1017 non-null   object\n",
      " 5   均价/平方米每元                                                              1017 non-null   object\n",
      " 6   总价                                                                    789 non-null    object\n",
      " 7   类型                                                                    1017 non-null   object\n",
      " 8   室厅数                                                                   720 non-null    object\n",
      " 9   面积                                                                    740 non-null    object\n",
      "dtypes: object(10)\n",
      "memory usage: 79.6+ KB\n",
      "初始数据规模： (1017, 10)\n",
      "重复项：已删除行数 67 清洗后数据规模 (950, 10)\n",
      "删除无用属性：已删除列数 1 清洗后数据规模 (950, 9)\n",
      "两端空格：已删除行数 0 清洗后数据规模 (950, 9)\n"
     ]
    }
   ],
   "execution_count": 1
  },
  {
   "metadata": {
    "ExecuteTime": {
     "end_time": "2025-03-07T15:37:37.318440Z",
     "start_time": "2025-03-07T15:37:37.312433Z"
    }
   },
   "cell_type": "code",
   "source": [
    "\n",
    "# 特殊字符 识别处理\n",
    "def check_specialchar(s):\n",
    "    if isinstance(s, str):\n",
    "        pattern = r'[@;?!@#$%^&*【】]'\n",
    "        has_special_char = bool(re.search(pattern, s))\n",
    "        return has_special_char\n",
    "    return False\n",
    "\n",
    "\n",
    "rows_to_delete = []\n",
    "for col in data.columns:\n",
    "    for index, value in data[col].items():\n",
    "        has_special_char = check_specialchar(value)\n",
    "        if has_special_char:\n",
    "            print(f\"列名: {col}, 行索引: {index}, 值: {value}, 是否有特殊字符: {has_special_char}\")\n",
    "            if index not in rows_to_delete:\n",
    "                rows_to_delete.append(index)\n",
    "data = data.drop(rows_to_delete)\n",
    "print('特殊字符：已删除行数', ds1-data.shape[0], '清洗后数据规模', data.shape)\n",
    "ds1 = data.shape[0]\n",
    "\n"
   ],
   "id": "7332aa8d30727a1f",
   "outputs": [
    {
     "name": "stdout",
     "output_type": "stream",
     "text": [
      "列名: 标题, 行索引: 510, 值: 保利珠江印象&保利珠江天悦, 是否有特殊字符: True\n",
      "特殊字符：已删除行数 1 清洗后数据规模 (949, 9)\n"
     ]
    }
   ],
   "execution_count": 2
  },
  {
   "metadata": {
    "ExecuteTime": {
     "end_time": "2025-03-07T15:37:37.390085Z",
     "start_time": "2025-03-07T15:37:37.387026Z"
    }
   },
   "cell_type": "code",
   "source": "print(data)",
   "id": "3978add0e4290e59",
   "outputs": [
    {
     "name": "stdout",
     "output_type": "stream",
     "text": [
      "             标题   地区    位置  类型 均价/平方米每元         室厅数           面积  \\\n",
      "0        保利南沙天汇   南沙    黄阁  在售    15000  2室, 3室, 4室   建面 78-135㎡   \n",
      "1    保利招商华发中央公馆   黄埔  黄埔区府  在售    45000      2室, 3室   建面 81-159㎡   \n",
      "2         中建海丝城   黄埔    文冲  在售    34000      3室, 4室   建面 78-117㎡   \n",
      "3        中建·星光城   白云    石井  在售    26000      3室, 4室   建面 69-100㎡   \n",
      "4       星河·盛世锦城   番禺   雅居乐  在售    37000      3室, 4室   建面 95-139㎡   \n",
      "..          ...  ...   ...  ..      ...         ...          ...   \n",
      "952      碧桂园翡翠郡   四会    大旺  售罄     5300      3室, 4室   建面 87-116㎡   \n",
      "953      保利爱乐小镇  四会市  大旺广场  售罄     5800  2室, 3室, 4室   建面 71-143㎡   \n",
      "954       龙光玖誉城  鼎湖区    鼎湖  售罄     9300  2室, 3室, 4室   建面 82-121㎡   \n",
      "955     碧桂园明珠花园   四会    大旺  售罄     5500          3室    建面 87-98㎡   \n",
      "956        恒大名都   四会    大旺  售罄     6400      3室, 4室  建面 108-132㎡   \n",
      "\n",
      "                        标签              总价  \n",
      "0    特价好房, 低单价, 车位充足, 绿化率高  总价125-330(万/套)  \n",
      "1    绿化率高, 人车分流, 国央企, 品牌房企  总价410-520(万/套)  \n",
      "2    绿化率高, 人车分流, 国央企, 品牌房企  总价250-410(万/套)  \n",
      "3     低单价, 低总价, 绿化率高, 人车分流  总价175-260(万/套)  \n",
      "4    绿色建筑, 车位充足, 品牌房企, 近地铁  总价325-491(万/套)  \n",
      "..                     ...             ...  \n",
      "952   楼盘, 绿化率高, 人车分流, 品牌房企             NaN  \n",
      "953    楼盘, 人车分流, 大型社区, 国央企       总价50(万/套)  \n",
      "954   楼盘, 人车分流, 大型社区, 品牌房企       总价90(万/套)  \n",
      "955   楼盘, 绿化率高, 人车分流, 品牌房企       总价50(万/套)  \n",
      "956   楼盘, 人车分流, 大型社区, 品牌房企       总价50(万/套)  \n",
      "\n",
      "[949 rows x 9 columns]\n"
     ]
    }
   ],
   "execution_count": 3
  },
  {
   "metadata": {
    "ExecuteTime": {
     "end_time": "2025-03-07T15:37:37.587201Z",
     "start_time": "2025-03-07T15:37:37.395124Z"
    }
   },
   "cell_type": "code",
   "source": [
    " # 删除没有因变量（总价）的数据\n",
    " data = data.dropna(subset=['总价'])\n",
    " print('因变量缺失：已删除行数', ds1-data.shape[0], '清洗后数据规模', data.shape)\n",
    " ds1 = data.shape[0]\n",
    "\n",
    " # 异常值（每平方均价与常识不符）\n",
    " sns.boxplot(x=data['均价/平方米每元'])\n",
    " plt.title('均价/平方米每元的箱型图')\n",
    " plt.xlabel('均价/平方米每元')\n",
    " plt.show()\n",
    " data['均价/平方米每元'] = pd.to_numeric(data['均价/平方米每元'], errors='coerce')\n",
    " data = data.dropna(subset=['均价/平方米每元'])\n",
    " q1 = data['均价/平方米每元'].quantile(0.25)\n",
    " q3 = data['均价/平方米每元'].quantile(0.75)\n",
    " iqr = q3 - q1\n",
    " lower_bound = q1 - 1.5 * iqr\n",
    " upper_bound = q3 + 1.5 * iqr\n",
    " outlier_index = data[(data['均价/平方米每元'] < lower_bound) | (data['均价/平方米每元'] > upper_bound)].index\n",
    " data = data.drop(outlier_index)\n",
    " print('均价异常值：已删除行数', ds1-data.shape[0], '清洗后数据规模', data.shape)\n",
    " ds1 = data.shape[0]"
   ],
   "id": "986eb46dc8e8c4e1",
   "outputs": [
    {
     "name": "stdout",
     "output_type": "stream",
     "text": [
      "因变量缺失：已删除行数 221 清洗后数据规模 (728, 9)\n"
     ]
    },
    {
     "data": {
      "text/plain": [
       "<Figure size 640x480 with 1 Axes>"
      ],
      "image/png": "[encoded data removed]"
     },
     "metadata": {},
     "output_type": "display_data"
    },
    {
     "name": "stdout",
     "output_type": "stream",
     "text": [
      "均价异常值：已删除行数 44 清洗后数据规模 (684, 9)\n"
     ]
    }
   ],
   "execution_count": 4
  },
  {
   "metadata": {
    "ExecuteTime": {
     "end_time": "2025-03-07T15:37:37.597767Z",
     "start_time": "2025-03-07T15:37:37.592403Z"
    }
   },
   "cell_type": "code",
   "source": [
    "# 缺失值识别\n",
    "data.info()\n",
    "\n",
    "# 位置 不填充直接删除\n",
    "data = data.dropna(subset=['位置'])\n",
    "print('位置空缺值：已删除行数', ds1-data.shape[0], '清洗后数据规模', data.shape)\n",
    "print(data)"
   ],
   "id": "410a65570d5a5be6",
   "outputs": [
    {
     "name": "stdout",
     "output_type": "stream",
     "text": [
      "<class 'pandas.core.frame.DataFrame'>\n",
      "Index: 684 entries, 0 to 956\n",
      "Data columns (total 9 columns):\n",
      " #   Column    Non-Null Count  Dtype \n",
      "---  ------    --------------  ----- \n",
      " 0   标题        684 non-null    object\n",
      " 1   地区        684 non-null    object\n",
      " 2   位置        680 non-null    object\n",
      " 3   类型        684 non-null    object\n",
      " 4   均价/平方米每元  684 non-null    int64 \n",
      " 5   室厅数       619 non-null    object\n",
      " 6   面积        633 non-null    object\n",
      " 7   标签        684 non-null    object\n",
      " 8   总价        684 non-null    object\n",
      "dtypes: int64(1), object(8)\n",
      "memory usage: 53.4+ KB\n",
      "位置空缺值：已删除行数 4 清洗后数据规模 (680, 9)\n",
      "             标题   地区    位置  类型  均价/平方米每元         室厅数           面积  \\\n",
      "0        保利南沙天汇   南沙    黄阁  在售     15000  2室, 3室, 4室   建面 78-135㎡   \n",
      "1    保利招商华发中央公馆   黄埔  黄埔区府  在售     45000      2室, 3室   建面 81-159㎡   \n",
      "2         中建海丝城   黄埔    文冲  在售     34000      3室, 4室   建面 78-117㎡   \n",
      "3        中建·星光城   白云    石井  在售     26000      3室, 4室   建面 69-100㎡   \n",
      "4       星河·盛世锦城   番禺   雅居乐  在售     37000      3室, 4室   建面 95-139㎡   \n",
      "..          ...  ...   ...  ..       ...         ...          ...   \n",
      "951      龙光·玖龙湖   四会    大旺  售罄      6500      2室, 3室    建面 39-78㎡   \n",
      "953      保利爱乐小镇  四会市  大旺广场  售罄      5800  2室, 3室, 4室   建面 71-143㎡   \n",
      "954       龙光玖誉城  鼎湖区    鼎湖  售罄      9300  2室, 3室, 4室   建面 82-121㎡   \n",
      "955     碧桂园明珠花园   四会    大旺  售罄      5500          3室    建面 87-98㎡   \n",
      "956        恒大名都   四会    大旺  售罄      6400      3室, 4室  建面 108-132㎡   \n",
      "\n",
      "                        标签              总价  \n",
      "0    特价好房, 低单价, 车位充足, 绿化率高  总价125-330(万/套)  \n",
      "1    绿化率高, 人车分流, 国央企, 品牌房企  总价410-520(万/套)  \n",
      "2    绿化率高, 人车分流, 国央企, 品牌房企  总价250-410(万/套)  \n",
      "3     低单价, 低总价, 绿化率高, 人车分流  总价175-260(万/套)  \n",
      "4    绿色建筑, 车位充足, 品牌房企, 近地铁  总价325-491(万/套)  \n",
      "..                     ...             ...  \n",
      "951   楼盘, 人车分流, 大型社区, 品牌房企       总价30(万/套)  \n",
      "953    楼盘, 人车分流, 大型社区, 国央企       总价50(万/套)  \n",
      "954   楼盘, 人车分流, 大型社区, 品牌房企       总价90(万/套)  \n",
      "955   楼盘, 绿化率高, 人车分流, 品牌房企       总价50(万/套)  \n",
      "956   楼盘, 人车分流, 大型社区, 品牌房企       总价50(万/套)  \n",
      "\n",
      "[680 rows x 9 columns]\n"
     ]
    }
   ],
   "execution_count": 5
  },
  {
   "metadata": {
    "ExecuteTime": {
     "end_time": "2025-03-07T15:37:37.606042Z",
     "start_time": "2025-03-07T15:37:37.602854Z"
    }
   },
   "cell_type": "code",
   "source": [
    "ds1 = data.shape[0]\n",
    "\n",
    "# print('室厅数空缺值：', data['室厅数'].isnull().sum())\n",
    "# print(data['室厅数'])\n",
    "print(data)"
   ],
   "id": "d6061edf5cc3d50f",
   "outputs": [
    {
     "name": "stdout",
     "output_type": "stream",
     "text": [
      "             标题   地区    位置  类型  均价/平方米每元         室厅数           面积  \\\n",
      "0        保利南沙天汇   南沙    黄阁  在售     15000  2室, 3室, 4室   建面 78-135㎡   \n",
      "1    保利招商华发中央公馆   黄埔  黄埔区府  在售     45000      2室, 3室   建面 81-159㎡   \n",
      "2         中建海丝城   黄埔    文冲  在售     34000      3室, 4室   建面 78-117㎡   \n",
      "3        中建·星光城   白云    石井  在售     26000      3室, 4室   建面 69-100㎡   \n",
      "4       星河·盛世锦城   番禺   雅居乐  在售     37000      3室, 4室   建面 95-139㎡   \n",
      "..          ...  ...   ...  ..       ...         ...          ...   \n",
      "951      龙光·玖龙湖   四会    大旺  售罄      6500      2室, 3室    建面 39-78㎡   \n",
      "953      保利爱乐小镇  四会市  大旺广场  售罄      5800  2室, 3室, 4室   建面 71-143㎡   \n",
      "954       龙光玖誉城  鼎湖区    鼎湖  售罄      9300  2室, 3室, 4室   建面 82-121㎡   \n",
      "955     碧桂园明珠花园   四会    大旺  售罄      5500          3室    建面 87-98㎡   \n",
      "956        恒大名都   四会    大旺  售罄      6400      3室, 4室  建面 108-132㎡   \n",
      "\n",
      "                        标签              总价  \n",
      "0    特价好房, 低单价, 车位充足, 绿化率高  总价125-330(万/套)  \n",
      "1    绿化率高, 人车分流, 国央企, 品牌房企  总价410-520(万/套)  \n",
      "2    绿化率高, 人车分流, 国央企, 品牌房企  总价250-410(万/套)  \n",
      "3     低单价, 低总价, 绿化率高, 人车分流  总价175-260(万/套)  \n",
      "4    绿色建筑, 车位充足, 品牌房企, 近地铁  总价325-491(万/套)  \n",
      "..                     ...             ...  \n",
      "951   楼盘, 人车分流, 大型社区, 品牌房企       总价30(万/套)  \n",
      "953    楼盘, 人车分流, 大型社区, 国央企       总价50(万/套)  \n",
      "954   楼盘, 人车分流, 大型社区, 品牌房企       总价90(万/套)  \n",
      "955   楼盘, 绿化率高, 人车分流, 品牌房企       总价50(万/套)  \n",
      "956   楼盘, 人车分流, 大型社区, 品牌房企       总价50(万/套)  \n",
      "\n",
      "[680 rows x 9 columns]\n"
     ]
    }
   ],
   "execution_count": 6
  },
  {
   "metadata": {
    "ExecuteTime": {
     "end_time": "2025-03-07T15:37:37.615485Z",
     "start_time": "2025-03-07T15:37:37.612616Z"
    }
   },
   "cell_type": "code",
   "source": [
    "# 室厅数 众数填充\n",
    "\n",
    "mode_value = data['室厅数'].mode()[0]\n",
    "data['室厅数'].fillna(mode_value, inplace=True)\n",
    "missing_count = data['室厅数'].isnull().sum()\n",
    "print('室厅数空缺值（填充后）：', data['室厅数'].isnull().sum())"
   ],
   "id": "286c031df7bf55c8",
   "outputs": [
    {
     "name": "stdout",
     "output_type": "stream",
     "text": [
      "室厅数空缺值（填充后）： 0\n"
     ]
    }
   ],
   "execution_count": 7
  },
  {
   "metadata": {
    "ExecuteTime": {
     "end_time": "2025-03-07T15:37:37.624155Z",
     "start_time": "2025-03-07T15:37:37.622977Z"
    }
   },
   "cell_type": "code",
   "source": "",
   "id": "734700eec8a1c223",
   "outputs": [],
   "execution_count": null
  }
 ],
 "metadata": {
  "kernelspec": {
   "display_name": "Python 3",
   "language": "python",
   "name": "python3"
  },
  "language_info": {
   "codemirror_mode": {
    "name": "ipython",
    "version": 2
   },
   "file_extension": ".py",
   "mimetype": "text/x-python",
   "name": "python",
   "nbconvert_exporter": "python",
   "pygments_lexer": "ipython2",
   "version": "2.7.6"
  }
 },
 "nbformat": 4,
 "nbformat_minor": 5
}
